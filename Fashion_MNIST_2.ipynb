{
  "nbformat": 4,
  "nbformat_minor": 0,
  "metadata": {
    "colab": {
      "provenance": [],
      "authorship_tag": "ABX9TyOVfFb3XGrjvGhnFiF6AeNY",
      "include_colab_link": true
    },
    "kernelspec": {
      "name": "python3",
      "display_name": "Python 3"
    },
    "language_info": {
      "name": "python"
    }
  },
  "cells": [
    {
      "cell_type": "markdown",
      "metadata": {
        "id": "view-in-github",
        "colab_type": "text"
      },
      "source": [
        "<a href=\"https://colab.research.google.com/github/sangammagariaravind123/Fashion_MNIST/blob/main/Fashion_MNIST_2.ipynb\" target=\"_parent\"><img src=\"https://colab.research.google.com/assets/colab-badge.svg\" alt=\"Open In Colab\"/></a>"
      ]
    },
    {
      "cell_type": "code",
      "source": [
        "import tensorflow as tf\n",
        "keras=tf.keras\n",
        "\n",
        "mnist = keras.datasets.fashion_mnist\n",
        "(train_img, train_label), (test_img, test_label) = mnist.load_data()\n",
        "print(train_img.shape)\n",
        "print(test_img.shape)\n",
        "print(train_label.shape)\n",
        "print(test_label.shape)"
      ],
      "metadata": {
        "id": "DnfBEeHEF79_",
        "colab": {
          "base_uri": "https://localhost:8080/"
        },
        "outputId": "13152288-9811-4e1b-c433-ebe603030894"
      },
      "execution_count": 4,
      "outputs": [
        {
          "output_type": "stream",
          "name": "stdout",
          "text": [
            "(60000, 28, 28)\n",
            "(10000, 28, 28)\n",
            "(60000,)\n",
            "(10000,)\n"
          ]
        }
      ]
    },
    {
      "cell_type": "code",
      "source": [
        "import matplotlib.pyplot as plt\n",
        "class_names = ['T-Shirt/top', 'Trouser', 'Pullover', 'Dress', 'Coat', 'Sandal', 'Shirt', 'Sneaker', 'Bag', 'Ankle boot']\n",
        "plt.figure(figsize=(10, 10))\n",
        "for i in range(10):\n",
        "  plt.subplot(5,5,i+1)\n",
        "  plt.xticks([])\n",
        "  plt.yticks([])\n",
        "  plt.grid(False)\n",
        "  plt.imshow(train_img[i], cmap=plt.cm.binary)\n",
        "  plt.xlabel(class_names[train_label[i]])"
      ],
      "metadata": {
        "colab": {
          "base_uri": "https://localhost:8080/",
          "height": 348
        },
        "id": "53sRAbP5Gmq4",
        "outputId": "7d0024e2-153b-418d-fa33-790a6ea6dcd5"
      },
      "execution_count": 5,
      "outputs": [
        {
          "output_type": "display_data",
          "data": {
            "text/plain": [
              "<Figure size 1000x1000 with 10 Axes>"
            ],
            "image/png": "[encoded data removed]"
          },
          "metadata": {}
        }
      ]
    },
    {
      "cell_type": "code",
      "source": [
        "train_img=train_img.reshape(60000, 28, 28, 1)\n",
        "train_img =train_img / 255.0\n",
        "test_img = test_img.reshape(10000, 28, 28, 1)\n",
        "test_img = test_img /255.0\n",
        "print(train_img.shape)"
      ],
      "metadata": {
        "id": "Cnbwg5uRciY7",
        "colab": {
          "base_uri": "https://localhost:8080/"
        },
        "outputId": "8d486897-b119-4f56-ab05-d70f9ef66567"
      },
      "execution_count": 6,
      "outputs": [
        {
          "output_type": "stream",
          "name": "stdout",
          "text": [
            "(60000, 28, 28, 1)\n"
          ]
        }
      ]
    },
    {
      "cell_type": "code",
      "source": [
        "from keras import Sequential\n",
        "from keras.layers import Dense\n",
        "from keras.optimizers import SGD, RMSprop, Adam\n",
        "from keras.regularizers import l2\n",
        "\n",
        "def create(hidden_layers=[128, 64], activation='relu', optimizer='adam', weight_decay=0.0005):\n",
        "    model = Sequential()\n",
        "    model.add(Dense(hidden_layers[0], activation=activation, input_shape=(784,), kernel_regularizer=l2(weight_decay)))\n",
        "    for units in hidden_layers[1:]:\n",
        "        model.add(Dense(units, activation=activation, kernel_regularizer=l2(weight_decay)))\n",
        "    model.add(Dense(10, activation='softmax'))\n",
        "\n",
        "    optimizers = {\n",
        "        'sgd': SGD(learning_rate=0.001),\n",
        "        'momentum': SGD(learning_rate=0.001, momentum=0.9),\n",
        "        'nesterov': SGD(learning_rate=0.001, momentum=0.9, nesterov=True),\n",
        "        'rmsprop': RMSprop(learning_rate=0.001),\n",
        "        'adam': Adam(learning_rate=0.001)\n",
        "    }\n",
        "    opt = optimizers.get(optimizer, Adam(learning_rate=0.001))  # Default to Adam if optimizer is not found\n",
        "\n",
        "    # Compile model\n",
        "    model.compile(optimizer=opt, loss='categorical_crossentropy', metrics=['accuracy'])\n",
        "    return model\n",
        "\n",
        "class mdls:#all models\n",
        "  def __init__(s):\n",
        "    s.one="
      ],
      "metadata": {
        "id": "X-1fsVTUcrDa"
      },
      "execution_count": null,
      "outputs": []
    },
    {
      "cell_type": "code",
      "source": [
        "model=keras.models.Sequential([keras.layers.Conv2D(64,(3,3),activation='relu', input_shape=(28, 28, 1)),\n",
        "                               keras.layers.MaxPooling2D(2,2),\n",
        "                               keras.layers.Conv2D(64,(3,3),activation='relu'),\n",
        "                               keras.layers.MaxPooling2D(2,2),\n",
        "                               keras.layers.Flatten(),\n",
        "                               keras.layers.Dense(128, activation='relu'),\n",
        "                               keras.layers.Dense(10, activation='softmax')\n",
        "                               ])\n",
        "model.compile(optimizer='adam', loss='sparse_categorical_crossentropy', metrics=['accuracy'])\n",
        "model.summary()"
      ],
      "metadata": {
        "colab": {
          "base_uri": "https://localhost:8080/",
          "height": 420
        },
        "id": "XARLxMBoOf2q",
        "outputId": "ddf3e449-a4ae-4f20-ca60-699c65774744"
      },
      "execution_count": null,
      "outputs": [
        {
          "output_type": "stream",
          "name": "stderr",
          "text": [
            "/usr/local/lib/python3.11/dist-packages/keras/src/layers/convolutional/base_conv.py:107: UserWarning: Do not pass an `input_shape`/`input_dim` argument to a layer. When using Sequential models, prefer using an `Input(shape)` object as the first layer in the model instead.\n",
            "  super().__init__(activity_regularizer=activity_regularizer, **kwargs)\n"
          ]
        },
        {
          "output_type": "display_data",
          "data": {
            "text/plain": [
              "\u001b[1mModel: \"sequential\"\u001b[0m\n"
            ],
            "text/html": [
              "<pre style=\"white-space:pre;overflow-x:auto;line-height:normal;font-family:Menlo,'DejaVu Sans Mono',consolas,'Courier New',monospace\"><span style=\"font-weight: bold\">Model: \"sequential\"</span>\n",
              "</pre>\n"
            ]
          },
          "metadata": {}
        },
        {
          "output_type": "display_data",
          "data": {
            "text/plain": [
              "┏━━━━━━━━━━━━━━━━━━━━━━━━━━━━━━━━━━━━━━┳━━━━━━━━━━━━━━━━━━━━━━━━━━━━━┳━━━━━━━━━━━━━━━━━┓\n",
              "┃\u001b[1m \u001b[0m\u001b[1mLayer (type)                        \u001b[0m\u001b[1m \u001b[0m┃\u001b[1m \u001b[0m\u001b[1mOutput Shape               \u001b[0m\u001b[1m \u001b[0m┃\u001b[1m \u001b[0m\u001b[1m        Param #\u001b[0m\u001b[1m \u001b[0m┃\n",
              "┡━━━━━━━━━━━━━━━━━━━━━━━━━━━━━━━━━━━━━━╇━━━━━━━━━━━━━━━━━━━━━━━━━━━━━╇━━━━━━━━━━━━━━━━━┩\n",
              "│ conv2d (\u001b[38;5;33mConv2D\u001b[0m)                      │ (\u001b[38;5;45mNone\u001b[0m, \u001b[38;5;34m26\u001b[0m, \u001b[38;5;34m26\u001b[0m, \u001b[38;5;34m64\u001b[0m)          │             \u001b[38;5;34m640\u001b[0m │\n",
              "├──────────────────────────────────────┼─────────────────────────────┼─────────────────┤\n",
              "│ max_pooling2d (\u001b[38;5;33mMaxPooling2D\u001b[0m)         │ (\u001b[38;5;45mNone\u001b[0m, \u001b[38;5;34m13\u001b[0m, \u001b[38;5;34m13\u001b[0m, \u001b[38;5;34m64\u001b[0m)          │               \u001b[38;5;34m0\u001b[0m │\n",
              "├──────────────────────────────────────┼─────────────────────────────┼─────────────────┤\n",
              "│ conv2d_1 (\u001b[38;5;33mConv2D\u001b[0m)                    │ (\u001b[38;5;45mNone\u001b[0m, \u001b[38;5;34m11\u001b[0m, \u001b[38;5;34m11\u001b[0m, \u001b[38;5;34m64\u001b[0m)          │          \u001b[38;5;34m36,928\u001b[0m │\n",
              "├──────────────────────────────────────┼─────────────────────────────┼─────────────────┤\n",
              "│ max_pooling2d_1 (\u001b[38;5;33mMaxPooling2D\u001b[0m)       │ (\u001b[38;5;45mNone\u001b[0m, \u001b[38;5;34m5\u001b[0m, \u001b[38;5;34m5\u001b[0m, \u001b[38;5;34m64\u001b[0m)            │               \u001b[38;5;34m0\u001b[0m │\n",
              "├──────────────────────────────────────┼─────────────────────────────┼─────────────────┤\n",
              "│ flatten (\u001b[38;5;33mFlatten\u001b[0m)                    │ (\u001b[38;5;45mNone\u001b[0m, \u001b[38;5;34m1600\u001b[0m)                │               \u001b[38;5;34m0\u001b[0m │\n",
              "├──────────────────────────────────────┼─────────────────────────────┼─────────────────┤\n",
              "│ dense (\u001b[38;5;33mDense\u001b[0m)                        │ (\u001b[38;5;45mNone\u001b[0m, \u001b[38;5;34m128\u001b[0m)                 │         \u001b[38;5;34m204,928\u001b[0m │\n",
              "├──────────────────────────────────────┼─────────────────────────────┼─────────────────┤\n",
              "│ dense_1 (\u001b[38;5;33mDense\u001b[0m)                      │ (\u001b[38;5;45mNone\u001b[0m, \u001b[38;5;34m10\u001b[0m)                  │           \u001b[38;5;34m1,290\u001b[0m │\n",
              "└──────────────────────────────────────┴─────────────────────────────┴─────────────────┘\n"
            ],
            "text/html": [
              "<pre style=\"white-space:pre;overflow-x:auto;line-height:normal;font-family:Menlo,'DejaVu Sans Mono',consolas,'Courier New',monospace\">┏━━━━━━━━━━━━━━━━━━━━━━━━━━━━━━━━━━━━━━┳━━━━━━━━━━━━━━━━━━━━━━━━━━━━━┳━━━━━━━━━━━━━━━━━┓\n",
              "┃<span style=\"font-weight: bold\"> Layer (type)                         </span>┃<span style=\"font-weight: bold\"> Output Shape                </span>┃<span style=\"font-weight: bold\">         Param # </span>┃\n",
              "┡━━━━━━━━━━━━━━━━━━━━━━━━━━━━━━━━━━━━━━╇━━━━━━━━━━━━━━━━━━━━━━━━━━━━━╇━━━━━━━━━━━━━━━━━┩\n",
              "│ conv2d (<span style=\"color: #0087ff; text-decoration-color: #0087ff\">Conv2D</span>)                      │ (<span style=\"color: #00d7ff; text-decoration-color: #00d7ff\">None</span>, <span style=\"color: #00af00; text-decoration-color: #00af00\">26</span>, <span style=\"color: #00af00; text-decoration-color: #00af00\">26</span>, <span style=\"color: #00af00; text-decoration-color: #00af00\">64</span>)          │             <span style=\"color: #00af00; text-decoration-color: #00af00\">640</span> │\n",
              "├──────────────────────────────────────┼─────────────────────────────┼─────────────────┤\n",
              "│ max_pooling2d (<span style=\"color: #0087ff; text-decoration-color: #0087ff\">MaxPooling2D</span>)         │ (<span style=\"color: #00d7ff; text-decoration-color: #00d7ff\">None</span>, <span style=\"color: #00af00; text-decoration-color: #00af00\">13</span>, <span style=\"color: #00af00; text-decoration-color: #00af00\">13</span>, <span style=\"color: #00af00; text-decoration-color: #00af00\">64</span>)          │               <span style=\"color: #00af00; text-decoration-color: #00af00\">0</span> │\n",
              "├──────────────────────────────────────┼─────────────────────────────┼─────────────────┤\n",
              "│ conv2d_1 (<span style=\"color: #0087ff; text-decoration-color: #0087ff\">Conv2D</span>)                    │ (<span style=\"color: #00d7ff; text-decoration-color: #00d7ff\">None</span>, <span style=\"color: #00af00; text-decoration-color: #00af00\">11</span>, <span style=\"color: #00af00; text-decoration-color: #00af00\">11</span>, <span style=\"color: #00af00; text-decoration-color: #00af00\">64</span>)          │          <span style=\"color: #00af00; text-decoration-color: #00af00\">36,928</span> │\n",
              "├──────────────────────────────────────┼─────────────────────────────┼─────────────────┤\n",
              "│ max_pooling2d_1 (<span style=\"color: #0087ff; text-decoration-color: #0087ff\">MaxPooling2D</span>)       │ (<span style=\"color: #00d7ff; text-decoration-color: #00d7ff\">None</span>, <span style=\"color: #00af00; text-decoration-color: #00af00\">5</span>, <span style=\"color: #00af00; text-decoration-color: #00af00\">5</span>, <span style=\"color: #00af00; text-decoration-color: #00af00\">64</span>)            │               <span style=\"color: #00af00; text-decoration-color: #00af00\">0</span> │\n",
              "├──────────────────────────────────────┼─────────────────────────────┼─────────────────┤\n",
              "│ flatten (<span style=\"color: #0087ff; text-decoration-color: #0087ff\">Flatten</span>)                    │ (<span style=\"color: #00d7ff; text-decoration-color: #00d7ff\">None</span>, <span style=\"color: #00af00; text-decoration-color: #00af00\">1600</span>)                │               <span style=\"color: #00af00; text-decoration-color: #00af00\">0</span> │\n",
              "├──────────────────────────────────────┼─────────────────────────────┼─────────────────┤\n",
              "│ dense (<span style=\"color: #0087ff; text-decoration-color: #0087ff\">Dense</span>)                        │ (<span style=\"color: #00d7ff; text-decoration-color: #00d7ff\">None</span>, <span style=\"color: #00af00; text-decoration-color: #00af00\">128</span>)                 │         <span style=\"color: #00af00; text-decoration-color: #00af00\">204,928</span> │\n",
              "├──────────────────────────────────────┼─────────────────────────────┼─────────────────┤\n",
              "│ dense_1 (<span style=\"color: #0087ff; text-decoration-color: #0087ff\">Dense</span>)                      │ (<span style=\"color: #00d7ff; text-decoration-color: #00d7ff\">None</span>, <span style=\"color: #00af00; text-decoration-color: #00af00\">10</span>)                  │           <span style=\"color: #00af00; text-decoration-color: #00af00\">1,290</span> │\n",
              "└──────────────────────────────────────┴─────────────────────────────┴─────────────────┘\n",
              "</pre>\n"
            ]
          },
          "metadata": {}
        },
        {
          "output_type": "display_data",
          "data": {
            "text/plain": [
              "\u001b[1m Total params: \u001b[0m\u001b[38;5;34m243,786\u001b[0m (952.29 KB)\n"
            ],
            "text/html": [
              "<pre style=\"white-space:pre;overflow-x:auto;line-height:normal;font-family:Menlo,'DejaVu Sans Mono',consolas,'Courier New',monospace\"><span style=\"font-weight: bold\"> Total params: </span><span style=\"color: #00af00; text-decoration-color: #00af00\">243,786</span> (952.29 KB)\n",
              "</pre>\n"
            ]
          },
          "metadata": {}
        },
        {
          "output_type": "display_data",
          "data": {
            "text/plain": [
              "\u001b[1m Trainable params: \u001b[0m\u001b[38;5;34m243,786\u001b[0m (952.29 KB)\n"
            ],
            "text/html": [
              "<pre style=\"white-space:pre;overflow-x:auto;line-height:normal;font-family:Menlo,'DejaVu Sans Mono',consolas,'Courier New',monospace\"><span style=\"font-weight: bold\"> Trainable params: </span><span style=\"color: #00af00; text-decoration-color: #00af00\">243,786</span> (952.29 KB)\n",
              "</pre>\n"
            ]
          },
          "metadata": {}
        },
        {
          "output_type": "display_data",
          "data": {
            "text/plain": [
              "\u001b[1m Non-trainable params: \u001b[0m\u001b[38;5;34m0\u001b[0m (0.00 B)\n"
            ],
            "text/html": [
              "<pre style=\"white-space:pre;overflow-x:auto;line-height:normal;font-family:Menlo,'DejaVu Sans Mono',consolas,'Courier New',monospace\"><span style=\"font-weight: bold\"> Non-trainable params: </span><span style=\"color: #00af00; text-decoration-color: #00af00\">0</span> (0.00 B)\n",
              "</pre>\n"
            ]
          },
          "metadata": {}
        }
      ]
    },
    {
      "cell_type": "code",
      "source": [
        "his=model.fit(train_img, train_label, epochs=5, validation_data=(test_img, test_label))"
      ],
      "metadata": {
        "colab": {
          "base_uri": "https://localhost:8080/"
        },
        "id": "e3pe9t4OZzRj",
        "outputId": "eaf871bf-effb-47d8-a29f-5ac571205b75"
      },
      "execution_count": null,
      "outputs": [
        {
          "output_type": "stream",
          "name": "stdout",
          "text": [
            "Epoch 1/5\n",
            "\u001b[1m1875/1875\u001b[0m \u001b[32m━━━━━━━━━━━━━━━━━━━━\u001b[0m\u001b[37m\u001b[0m \u001b[1m109s\u001b[0m 57ms/step - accuracy: 0.7817 - loss: 0.6084 - val_accuracy: 0.8828 - val_loss: 0.3309\n",
            "Epoch 2/5\n",
            "\u001b[1m1875/1875\u001b[0m \u001b[32m━━━━━━━━━━━━━━━━━━━━\u001b[0m\u001b[37m\u001b[0m \u001b[1m131s\u001b[0m 51ms/step - accuracy: 0.8918 - loss: 0.2991 - val_accuracy: 0.8973 - val_loss: 0.2911\n",
            "Epoch 3/5\n",
            "\u001b[1m1874/1875\u001b[0m \u001b[32m━━━━━━━━━━━━━━━━━━━\u001b[0m\u001b[37m━\u001b[0m \u001b[1m0s\u001b[0m 46ms/step - accuracy: 0.9066 - loss: 0.2539"
          ]
        }
      ]
    },
    {
      "cell_type": "code",
      "source": [
        "layer_outputs = [layer.output for layer in model.layers]\n",
        "activation_model = keras.models.Model(inputs=model.inputs, outputs=layer_outputs)\n",
        "\n",
        "f, axarr = plt.subplots(3, 4)\n",
        "FIRST_IMAGE = 0\n",
        "SECOND_IMAGE = 23\n",
        "THIRD_IMAGE = 28\n",
        "CONVOLUTION_NUMBER = 6\n",
        "\n",
        "for x in range(0, 4):\n",
        "    f1 = activation_model.predict(test_img[FIRST_IMAGE].reshape(1, 28, 28, 1))[x]\n",
        "    axarr[0, x].imshow(f1[0, :, :, CONVOLUTION_NUMBER], cmap='grey')\n",
        "    axarr[0, x].grid(False)\n",
        "\n",
        "    f2 = activation_model.predict(test_img[SECOND_IMAGE].reshape(1, 28, 28, 1))[x]\n",
        "    axarr[1, x].imshow(f2[0, :, :, CONVOLUTION_NUMBER], cmap='grey')\n",
        "    axarr[1, x].grid(False)\n",
        "\n",
        "    f3 = activation_model.predict(test_img[THIRD_IMAGE].reshape(1, 28, 28, 1))[x]\n",
        "    axarr[2, x].imshow(f3[0, :, :, CONVOLUTION_NUMBER], cmap='grey')\n",
        "    axarr[2, x].grid(False)\n",
        "\n",
        "plt.show()"
      ],
      "metadata": {
        "id": "kV-ii6HEojSW"
      },
      "execution_count": null,
      "outputs": []
    },
    {
      "cell_type": "code",
      "source": [
        "#All cells code at one place (one cell)\n",
        "# import tensorflow as tf\n",
        "# keras=tf.keras\n",
        "\n",
        "# mnist = keras.datasets.fashion_mnist\n",
        "# (train_img, train_label), (test_img, test_label) = mnist.load_data()\n",
        "# print(train_img.shape)\n",
        "# print(test_img.shape)\n",
        "# print(train_label.shape)\n",
        "# print(test_label.shape)\n",
        "\n",
        "# import matplotlib.pyplot as plt\n",
        "# class_names = ['T-Shirt/top', 'Trouser', 'Pullover', 'Dress', 'Coat', 'Sandal', 'Shirt', 'Sneaker', 'Bag', 'Ankle boot']\n",
        "# plt.figure(figsize=(10, 10))\n",
        "# for i in range(10):\n",
        "#   plt.subplot(5,5,i+1)\n",
        "#   plt.xticks([])\n",
        "#   plt.yticks([])\n",
        "#   plt.grid(False)\n",
        "#   plt.imshow(train_img[i], cmap=plt.cm.binary)\n",
        "#   plt.xlabel(class_names[train_label[i]])\n",
        "\n",
        "# train_img=train_img.reshape(60000, 28, 28, 1)\n",
        "# train_img =train_img / 255.0\n",
        "# test_img = test_img.reshape(10000, 28, 28, 1)\n",
        "# test_img = test_img /255.0\n",
        "\n",
        "# model=keras.models.Sequential([keras.layers.Conv2D(64,(3,3),activation='relu', input_shape=(28, 28, 1)),\n",
        "#                                keras.layers.MaxPooling2D(2,2),\n",
        "#                                keras.layers.Conv2D(64,(3,3),activation='relu'),\n",
        "#                                keras.layers.MaxPooling2D(2,2),\n",
        "#                                keras.layers.Flatten(),\n",
        "#                                keras.layers.Dense(128, activation='relu'),\n",
        "#                                keras.layers.Dense(10, activation='softmax')\n",
        "#                                ])\n",
        "# model.compile(optimizer='adam', loss='sparse_categorical_crossentropy', metrics=['accuracy'])\n",
        "# model.summary()\n",
        "\n",
        "# his=model.fit(train_img, train_label, epochs=5, validation_data=(test_img, test_label))\n",
        "\n",
        "# layer_outputs = [layer.output for layer in model.layers]\n",
        "# activation_model = keras.models.Model(inputs=model.inputs, outputs=layer_outputs)\n",
        "\n",
        "# f, axarr = plt.subplots(3, 4)\n",
        "# FIRST_IMAGE = 0\n",
        "# SECOND_IMAGE = 23\n",
        "# THIRD_IMAGE = 28\n",
        "# CONVOLUTION_NUMBER = 6\n",
        "\n",
        "# for x in range(0, 4):\n",
        "#     f1 = activation_model.predict(test_img[FIRST_IMAGE].reshape(1, 28, 28, 1))[x]\n",
        "#     axarr[0, x].imshow(f1[0, :, :, CONVOLUTION_NUMBER], cmap='grey')\n",
        "#     axarr[0, x].grid(False)\n",
        "\n",
        "#     f2 = activation_model.predict(test_img[SECOND_IMAGE].reshape(1, 28, 28, 1))[x]\n",
        "#     axarr[1, x].imshow(f2[0, :, :, CONVOLUTION_NUMBER], cmap='grey')\n",
        "#     axarr[1, x].grid(False)\n",
        "\n",
        "#     f3 = activation_model.predict(test_img[THIRD_IMAGE].reshape(1, 28, 28, 1))[x]\n",
        "#     axarr[2, x].imshow(f3[0, :, :, CONVOLUTION_NUMBER], cmap='grey')\n",
        "#     axarr[2, x].grid(False)\n",
        "\n",
        "plt.show()"
      ],
      "metadata": {
        "id": "zFoylY9HZ8CQ"
      },
      "execution_count": null,
      "outputs": []
    }
  ]
}